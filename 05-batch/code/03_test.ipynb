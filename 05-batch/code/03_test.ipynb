{
  "cells": [
    {
      "cell_type": "markdown",
      "metadata": {
        "id": "view-in-github",
        "colab_type": "text"
      },
      "source": [
        "<a href=\"https://colab.research.google.com/github/Gengsu07/Gengsu07_DEZoomCamp/blob/main/05-batch/code/03_test.ipynb\" target=\"_parent\"><img src=\"https://colab.research.google.com/assets/colab-badge.svg\" alt=\"Open In Colab\"/></a>"
      ]
    },
    {
      "cell_type": "code",
      "source": [
        "%%capture\n",
        "!pip install pyspark\n",
        "!pip install findspark\n",
        "!pip install pyngrok"
      ],
      "metadata": {
        "id": "ziwDO_MLqFSs"
      },
      "id": "ziwDO_MLqFSs",
      "execution_count": 1,
      "outputs": []
    },
    {
      "cell_type": "code",
      "source": [
        "import findspark\n",
        "\n",
        "findspark.init()\n",
        "from pyngrok import ngrok, conf\n",
        "import getpass\n",
        "\n",
        "print(\"Enter your authtoken, which can be copied \"\n",
        "\"from https://dashboard.ngrok.com/get-started/your-authtoken\")\n",
        "conf.get_default().auth_token = getpass.getpass()\n",
        "\n",
        "ui_port = 4040\n",
        "public_url = ngrok.connect(ui_port).public_url\n",
        "print(f\" * ngrok tunnel \\\"{public_url}\\\" -> \\\"http://127.0.0.1:{ui_port}\\\"\")"
      ],
      "metadata": {
        "id": "cWj1h0z5qWxQ",
        "outputId": "9ca60813-9a70-4993-cff4-cd5e4cd546d6",
        "colab": {
          "base_uri": "https://localhost:8080/"
        }
      },
      "id": "cWj1h0z5qWxQ",
      "execution_count": 7,
      "outputs": [
        {
          "output_type": "stream",
          "name": "stdout",
          "text": [
            "Enter your authtoken, which can be copied from https://dashboard.ngrok.com/get-started/your-authtoken\n",
            "··········\n"
          ]
        },
        {
          "output_type": "stream",
          "name": "stderr",
          "text": [
            "WARNING:pyngrok.process.ngrok:t=2024-03-02T00:59:32+0000 lvl=warn msg=\"can't bind default web address, trying alternatives\" obj=web addr=127.0.0.1:4040\n"
          ]
        },
        {
          "output_type": "stream",
          "name": "stdout",
          "text": [
            " * ngrok tunnel \"https://c1ec-35-238-70-86.ngrok-free.app\" -> \"http://127.0.0.1:4040\"\n"
          ]
        }
      ]
    },
    {
      "cell_type": "code",
      "execution_count": 8,
      "id": "72505747",
      "metadata": {
        "id": "72505747"
      },
      "outputs": [],
      "source": [
        "import pyspark"
      ]
    },
    {
      "cell_type": "code",
      "execution_count": 9,
      "id": "bd55afbe",
      "metadata": {
        "id": "bd55afbe",
        "outputId": "417079b9-2abd-4265-f4cc-26455ff39fb3",
        "colab": {
          "base_uri": "https://localhost:8080/",
          "height": 35
        }
      },
      "outputs": [
        {
          "output_type": "execute_result",
          "data": {
            "text/plain": [
              "'/usr/local/lib/python3.10/dist-packages/pyspark/__init__.py'"
            ],
            "application/vnd.google.colaboratory.intrinsic+json": {
              "type": "string"
            }
          },
          "metadata": {},
          "execution_count": 9
        }
      ],
      "source": [
        "pyspark.__file__"
      ]
    },
    {
      "cell_type": "code",
      "execution_count": 10,
      "id": "29f1cf4c",
      "metadata": {
        "id": "29f1cf4c"
      },
      "outputs": [],
      "source": [
        "from pyspark.sql import SparkSession"
      ]
    },
    {
      "cell_type": "code",
      "execution_count": 11,
      "id": "cf6d80ad",
      "metadata": {
        "id": "cf6d80ad"
      },
      "outputs": [],
      "source": [
        "spark = SparkSession.builder \\\n",
        "    .master(\"local[*]\") \\\n",
        "    .appName('test') \\\n",
        "    .getOrCreate()"
      ]
    },
    {
      "cell_type": "code",
      "execution_count": 12,
      "id": "3f604529",
      "metadata": {
        "id": "3f604529",
        "outputId": "8d04741f-0f27-4570-a33b-db8c513bfc2b",
        "colab": {
          "base_uri": "https://localhost:8080/"
        }
      },
      "outputs": [
        {
          "output_type": "stream",
          "name": "stdout",
          "text": [
            "--2024-03-02 01:00:50--  https://s3.amazonaws.com/nyc-tlc/misc/taxi+_zone_lookup.csv\n",
            "Resolving s3.amazonaws.com (s3.amazonaws.com)... 16.182.64.200, 52.217.101.6, 52.217.129.0, ...\n",
            "Connecting to s3.amazonaws.com (s3.amazonaws.com)|16.182.64.200|:443... connected.\n",
            "HTTP request sent, awaiting response... 200 OK\n",
            "Length: 12322 (12K) [application/octet-stream]\n",
            "Saving to: ‘taxi+_zone_lookup.csv’\n",
            "\n",
            "\rtaxi+_zone_lookup.c   0%[                    ]       0  --.-KB/s               \rtaxi+_zone_lookup.c 100%[===================>]  12.03K  --.-KB/s    in 0s      \n",
            "\n",
            "2024-03-02 01:00:50 (113 MB/s) - ‘taxi+_zone_lookup.csv’ saved [12322/12322]\n",
            "\n"
          ]
        }
      ],
      "source": [
        "!wget https://s3.amazonaws.com/nyc-tlc/misc/taxi+_zone_lookup.csv"
      ]
    },
    {
      "cell_type": "code",
      "execution_count": 13,
      "id": "12342345",
      "metadata": {
        "id": "12342345",
        "outputId": "ee857e6a-1f81-41bd-fec4-82079a491938",
        "colab": {
          "base_uri": "https://localhost:8080/"
        }
      },
      "outputs": [
        {
          "output_type": "stream",
          "name": "stdout",
          "text": [
            "\"LocationID\",\"Borough\",\"Zone\",\"service_zone\"\r\n",
            "1,\"EWR\",\"Newark Airport\",\"EWR\"\r\n",
            "2,\"Queens\",\"Jamaica Bay\",\"Boro Zone\"\r\n",
            "3,\"Bronx\",\"Allerton/Pelham Gardens\",\"Boro Zone\"\r\n",
            "4,\"Manhattan\",\"Alphabet City\",\"Yellow Zone\"\r\n",
            "5,\"Staten Island\",\"Arden Heights\",\"Boro Zone\"\r\n",
            "6,\"Staten Island\",\"Arrochar/Fort Wadsworth\",\"Boro Zone\"\r\n",
            "7,\"Queens\",\"Astoria\",\"Boro Zone\"\r\n",
            "8,\"Queens\",\"Astoria Park\",\"Boro Zone\"\r\n",
            "9,\"Queens\",\"Auburndale\",\"Boro Zone\"\r\n"
          ]
        }
      ],
      "source": [
        "!head taxi+_zone_lookup.csv"
      ]
    },
    {
      "cell_type": "code",
      "execution_count": 14,
      "id": "809464d0",
      "metadata": {
        "id": "809464d0"
      },
      "outputs": [],
      "source": [
        "df = spark.read \\\n",
        "    .option(\"header\", \"true\") \\\n",
        "    .csv('taxi+_zone_lookup.csv')"
      ]
    },
    {
      "cell_type": "code",
      "execution_count": null,
      "id": "e36dd996",
      "metadata": {
        "id": "e36dd996",
        "outputId": "83b5f0e5-19bb-46ea-c3cf-03b252d28a36"
      },
      "outputs": [
        {
          "name": "stdout",
          "output_type": "stream",
          "text": [
            "+----------+-------------+--------------------+------------+\n",
            "|LocationID|      Borough|                Zone|service_zone|\n",
            "+----------+-------------+--------------------+------------+\n",
            "|         1|          EWR|      Newark Airport|         EWR|\n",
            "|         2|       Queens|         Jamaica Bay|   Boro Zone|\n",
            "|         3|        Bronx|Allerton/Pelham G...|   Boro Zone|\n",
            "|         4|    Manhattan|       Alphabet City| Yellow Zone|\n",
            "|         5|Staten Island|       Arden Heights|   Boro Zone|\n",
            "|         6|Staten Island|Arrochar/Fort Wad...|   Boro Zone|\n",
            "|         7|       Queens|             Astoria|   Boro Zone|\n",
            "|         8|       Queens|        Astoria Park|   Boro Zone|\n",
            "|         9|       Queens|          Auburndale|   Boro Zone|\n",
            "|        10|       Queens|        Baisley Park|   Boro Zone|\n",
            "|        11|     Brooklyn|          Bath Beach|   Boro Zone|\n",
            "|        12|    Manhattan|        Battery Park| Yellow Zone|\n",
            "|        13|    Manhattan|   Battery Park City| Yellow Zone|\n",
            "|        14|     Brooklyn|           Bay Ridge|   Boro Zone|\n",
            "|        15|       Queens|Bay Terrace/Fort ...|   Boro Zone|\n",
            "|        16|       Queens|             Bayside|   Boro Zone|\n",
            "|        17|     Brooklyn|             Bedford|   Boro Zone|\n",
            "|        18|        Bronx|        Bedford Park|   Boro Zone|\n",
            "|        19|       Queens|           Bellerose|   Boro Zone|\n",
            "|        20|        Bronx|             Belmont|   Boro Zone|\n",
            "+----------+-------------+--------------------+------------+\n",
            "only showing top 20 rows\n",
            "\n"
          ]
        }
      ],
      "source": [
        "df.show()"
      ]
    },
    {
      "cell_type": "code",
      "execution_count": null,
      "id": "cb547351",
      "metadata": {
        "scrolled": true,
        "id": "cb547351",
        "outputId": "9cf98160-a2c0-498c-b6a2-e09291b70094"
      },
      "outputs": [
        {
          "name": "stderr",
          "output_type": "stream",
          "text": [
            "\r",
            "[Stage 4:>                                                          (0 + 1) / 1]\r",
            "\r",
            "                                                                                \r"
          ]
        }
      ],
      "source": [
        "df.write.parquet('zones')"
      ]
    },
    {
      "cell_type": "code",
      "execution_count": null,
      "id": "02fe2bdb",
      "metadata": {
        "id": "02fe2bdb",
        "outputId": "1bebb36d-cd69-4f7b-c3d1-6b5e1bbd780c"
      },
      "outputs": [
        {
          "name": "stdout",
          "output_type": "stream",
          "text": [
            "total 28K\r\n",
            "-rw-rw-r-- 1 alexey alexey 6.8K Feb 15 22:25 Untitled.ipynb\r\n",
            "-rw-rw-r-- 1 alexey alexey  13K Aug 17  2016 taxi+_zone_lookup.csv\r\n",
            "drwxr-xr-x 2 alexey alexey 4.0K Feb 15 22:25 zones\r\n"
          ]
        }
      ],
      "source": [
        "!ls -lh"
      ]
    },
    {
      "cell_type": "code",
      "execution_count": null,
      "id": "659f0812",
      "metadata": {
        "id": "659f0812"
      },
      "outputs": [],
      "source": []
    }
  ],
  "metadata": {
    "kernelspec": {
      "display_name": "Python 3 (ipykernel)",
      "language": "python",
      "name": "python3"
    },
    "language_info": {
      "codemirror_mode": {
        "name": "ipython",
        "version": 3
      },
      "file_extension": ".py",
      "mimetype": "text/x-python",
      "name": "python",
      "nbconvert_exporter": "python",
      "pygments_lexer": "ipython3",
      "version": "3.9.7"
    },
    "colab": {
      "provenance": [],
      "include_colab_link": true
    }
  },
  "nbformat": 4,
  "nbformat_minor": 5
}