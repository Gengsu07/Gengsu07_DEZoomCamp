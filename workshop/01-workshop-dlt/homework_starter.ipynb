{
  "cells": [
    {
      "cell_type": "markdown",
      "metadata": {
        "id": "mrTFv5nPClXh"
      },
      "source": [
        "# **Homework**: Data talks club data engineering zoomcamp Data loading workshop\n",
        "\n",
        "Hello folks, let's practice what we learned - Loading data with the best practices of data engineering.\n",
        "\n",
        "Here are the exercises we will do\n"
      ]
    },
    {
      "cell_type": "markdown",
      "metadata": {
        "id": "wLF4iXf-NR7t"
      },
      "source": [
        "# 1. Use a generator\n",
        "\n",
        "Remember the concept of generator? Let's practice using them to futher our understanding of how they work.\n",
        "\n",
        "Let's define a generator and then run it as practice.\n",
        "\n",
        "**Answer the following questions:**\n",
        "\n",
        "- **Question 1: What is the sum of the outputs of the generator for limit = 5?**\n",
        "- **Question 2: What is the 13th number yielded**\n",
        "\n",
        "I suggest practicing these questions without GPT as the purpose is to further your learning.\n"
      ]
    },
    {
      "cell_type": "code",
      "execution_count": 1,
      "metadata": {
        "colab": {
          "base_uri": "https://localhost:8080/"
        },
        "id": "wLng-bDJN4jf",
        "outputId": "547683cb-5f56-4815-a903-d0d9578eb1f9"
      },
      "outputs": [
        {
          "name": "stdout",
          "output_type": "stream",
          "text": [
            "8.382332347441762\n"
          ]
        }
      ],
      "source": [
        "def square_root_generator(limit):\n",
        "    n = 1\n",
        "    while n <= limit:\n",
        "        yield n**0.5\n",
        "        n += 1\n",
        "\n",
        "\n",
        "# Example usage:\n",
        "limit = 5\n",
        "generator = square_root_generator(limit)\n",
        "\n",
        "total = 0\n",
        "for sqrt_value in generator:\n",
        "    # print(sqrt_value)\n",
        "    total += sqrt_value\n",
        "print(total)"
      ]
    },
    {
      "cell_type": "code",
      "execution_count": 2,
      "metadata": {},
      "outputs": [
        {
          "name": "stdout",
          "output_type": "stream",
          "text": [
            "1.0\n",
            "1.4142135623730951\n",
            "1.7320508075688772\n",
            "2.0\n",
            "2.23606797749979\n",
            "2.449489742783178\n",
            "2.6457513110645907\n",
            "2.8284271247461903\n",
            "3.0\n",
            "3.1622776601683795\n",
            "3.3166247903554\n",
            "3.4641016151377544\n",
            "3.605551275463989\n"
          ]
        }
      ],
      "source": [
        "def square_root_generator(limit):\n",
        "    n = 1\n",
        "    while n <= limit:\n",
        "        yield n**0.5\n",
        "        n += 1\n",
        "\n",
        "\n",
        "# Example usage:\n",
        "limit = 13\n",
        "generator = square_root_generator(limit)\n",
        "\n",
        "for sqrt_value in generator:\n",
        "    print(sqrt_value)"
      ]
    },
    {
      "cell_type": "markdown",
      "metadata": {
        "id": "xbe3q55zN43j"
      },
      "source": [
        "1. 8.382332347441762\n",
        "2. 3.605551275463989\n"
      ]
    },
    {
      "cell_type": "markdown",
      "metadata": {
        "id": "vjWhILzGJMpK"
      },
      "source": [
        "# 2. Append a generator to a table with existing data\n",
        "\n",
        "Below you have 2 generators. You will be tasked to load them to duckdb and answer some questions from the data\n",
        "\n",
        "1. Load the first generator and calculate the sum of ages of all people. Make sure to only load it once.\n",
        "2. Append the second generator to the same table as the first.\n",
        "3. **After correctly appending the data, calculate the sum of all ages of people.**\n"
      ]
    },
    {
      "cell_type": "markdown",
      "metadata": {},
      "source": [
        "# Load first data"
      ]
    },
    {
      "cell_type": "code",
      "execution_count": 28,
      "metadata": {},
      "outputs": [],
      "source": [
        "import dlt\n",
        "\n",
        "\n",
        "def people_1():\n",
        "    for i in range(1, 6):\n",
        "        yield {\"ID\": i, \"Name\": f\"Person_{i}\", \"Age\": 25 + i, \"City\": \"City_A\"}\n",
        "\n",
        "\n",
        "people1_pipeline = dlt.pipeline(\n",
        "    pipeline_name=\"people_etl\", dataset_name=\"people\", destination=\"duckdb\"\n",
        ")\n",
        "info = people1_pipeline.run(\n",
        "    people_1(), table_name=\"people_table\", write_disposition=\"replace\"\n",
        ")"
      ]
    },
    {
      "cell_type": "code",
      "execution_count": 36,
      "metadata": {},
      "outputs": [
        {
          "data": {
            "text/plain": [
              "┌───────┬──────────┬───────┬─────────┬───────────────────┬────────────────┬────────────┐\n",
              "│  id   │   name   │  age  │  city   │   _dlt_load_id    │    _dlt_id     │ occupation │\n",
              "│ int64 │ varchar  │ int64 │ varchar │      varchar      │    varchar     │  varchar   │\n",
              "├───────┼──────────┼───────┼─────────┼───────────────────┼────────────────┼────────────┤\n",
              "│     1 │ Person_1 │    26 │ City_A  │ 1707694671.879852 │ ys4FmjPwVcKmxg │ NULL       │\n",
              "│     2 │ Person_2 │    27 │ City_A  │ 1707694671.879852 │ gX1BQ0zEE+uKcQ │ NULL       │\n",
              "│     3 │ Person_3 │    28 │ City_A  │ 1707694671.879852 │ ta7ovZpW68+quQ │ NULL       │\n",
              "│     4 │ Person_4 │    29 │ City_A  │ 1707694671.879852 │ zeRzJYcflLXXdQ │ NULL       │\n",
              "│     5 │ Person_5 │    30 │ City_A  │ 1707694671.879852 │ 1BNquTLNycI1Og │ NULL       │\n",
              "└───────┴──────────┴───────┴─────────┴───────────────────┴────────────────┴────────────┘"
            ]
          },
          "metadata": {},
          "output_type": "display_data"
        },
        {
          "name": "stdout",
          "output_type": "stream",
          "text": [
            "sum of the age in first table entry:┌──────────┐\n",
            "│ sum(age) │\n",
            "│  int128  │\n",
            "├──────────┤\n",
            "│      140 │\n",
            "└──────────┘\n",
            "\n"
          ]
        }
      ],
      "source": [
        "import duckdb\n",
        "\n",
        "conn = duckdb.connect(f\"{people1_pipeline.pipeline_name}.duckdb\")\n",
        "\n",
        "conn.sql(f\"SET search_path= {people1_pipeline.dataset_name}\")\n",
        "display(conn.sql('SELECT * FROM \"people_table\"'))\n",
        "sum_age1 = conn.sql('SELECT sum(age) FROM \"people_table\"')\n",
        "print(f\"sum of the age in first table entry:{sum_age1}\")"
      ]
    },
    {
      "cell_type": "markdown",
      "metadata": {},
      "source": [
        "# Load second data\n"
      ]
    },
    {
      "cell_type": "code",
      "execution_count": 30,
      "metadata": {
        "colab": {
          "base_uri": "https://localhost:8080/"
        },
        "id": "2MoaQcdLBEk6",
        "outputId": "d2b93dc1-d83f-44ea-aeff-fdf51d75f7aa"
      },
      "outputs": [],
      "source": [
        "def people_2():\n",
        "    for i in range(3, 9):\n",
        "        yield {\n",
        "            \"ID\": i,\n",
        "            \"Name\": f\"Person_{i}\",\n",
        "            \"Age\": 30 + i,\n",
        "            \"City\": \"City_B\",\n",
        "            \"Occupation\": f\"Job_{i}\",\n",
        "        }\n",
        "\n",
        "\n",
        "people2_pipeline = people1_pipeline.run(\n",
        "    people_2(), table_name=\"people_table\", write_disposition=\"append\"\n",
        ")"
      ]
    },
    {
      "cell_type": "code",
      "execution_count": 32,
      "metadata": {},
      "outputs": [
        {
          "data": {
            "text/plain": [
              "┌───────┬──────────┬───────┬─────────┬───────────────────┬────────────────┬────────────┐\n",
              "│  id   │   name   │  age  │  city   │   _dlt_load_id    │    _dlt_id     │ occupation │\n",
              "│ int64 │ varchar  │ int64 │ varchar │      varchar      │    varchar     │  varchar   │\n",
              "├───────┼──────────┼───────┼─────────┼───────────────────┼────────────────┼────────────┤\n",
              "│     1 │ Person_1 │    26 │ City_A  │ 1707692518.112243 │ xV/dvgCXLK54UQ │ NULL       │\n",
              "│     2 │ Person_2 │    27 │ City_A  │ 1707692518.112243 │ 5/WwlQ+sgamfHQ │ NULL       │\n",
              "│     3 │ Person_3 │    28 │ City_A  │ 1707692518.112243 │ +/e5xHRaDsQdUA │ NULL       │\n",
              "│     4 │ Person_4 │    29 │ City_A  │ 1707692518.112243 │ rOOYnjYyQnMQWQ │ NULL       │\n",
              "│     5 │ Person_5 │    30 │ City_A  │ 1707692518.112243 │ U2iZ6DRIG3qCZg │ NULL       │\n",
              "│     3 │ Person_3 │    33 │ City_B  │ 1707692699.131199 │ bFn51MIJj5a+Tg │ Job_3      │\n",
              "│     4 │ Person_4 │    34 │ City_B  │ 1707692699.131199 │ c0246L4tOSLJXw │ Job_4      │\n",
              "│     5 │ Person_5 │    35 │ City_B  │ 1707692699.131199 │ DA2NNW5gQr4EjA │ Job_5      │\n",
              "│     6 │ Person_6 │    36 │ City_B  │ 1707692699.131199 │ 7zwdK2pDn8q1cA │ Job_6      │\n",
              "│     7 │ Person_7 │    37 │ City_B  │ 1707692699.131199 │ xjanj07wWRLV/Q │ Job_7      │\n",
              "│     8 │ Person_8 │    38 │ City_B  │ 1707692699.131199 │ mphgSdkUTd5PWw │ Job_8      │\n",
              "├───────┴──────────┴───────┴─────────┴───────────────────┴────────────────┴────────────┤\n",
              "│ 11 rows                                                                    7 columns │\n",
              "└──────────────────────────────────────────────────────────────────────────────────────┘"
            ]
          },
          "metadata": {},
          "output_type": "display_data"
        },
        {
          "name": "stdout",
          "output_type": "stream",
          "text": [
            "sum of the age in second table entry:┌──────────┐\n",
            "│ sum(age) │\n",
            "│  int128  │\n",
            "├──────────┤\n",
            "│      353 │\n",
            "└──────────┘\n",
            "\n"
          ]
        }
      ],
      "source": [
        "conn = duckdb.connect(f\"{people1_pipeline.pipeline_name}.duckdb\")\n",
        "\n",
        "conn.sql(f\"SET search_path= {people2_pipeline.dataset_name}\")\n",
        "display(conn.sql('SELECT * FROM \"people_table\"'))\n",
        "sum_age1 = conn.sql('SELECT sum(age) FROM \"people_table\"')\n",
        "print(f\"sum of the age in second table entry:{sum_age1}\")"
      ]
    },
    {
      "cell_type": "markdown",
      "metadata": {
        "id": "vtdTIm4fvQCN"
      },
      "source": [
        "answer= 353\n"
      ]
    },
    {
      "cell_type": "markdown",
      "metadata": {
        "id": "pY4cFAWOSwN1"
      },
      "source": [
        "# 3. Merge a generator\n",
        "\n",
        "Re-use the generators from Exercise 2.\n",
        "\n",
        "A table's primary key needs to be created from the start, so load your data to a new table with primary key ID.\n",
        "\n",
        "Load your first generator first, and then load the second one with merge. Since they have overlapping IDs, some of the records from the first load should be replaced by the ones from the second load.\n",
        "\n",
        "After loading, you should have a total of 8 records, and ID 3 should have age 33.\n",
        "\n",
        "Question: **Calculate the sum of ages of all the people loaded as described above.**\n"
      ]
    },
    {
      "cell_type": "markdown",
      "metadata": {
        "id": "kKB2GTB9oVjr"
      },
      "source": [
        "# Solution: First make sure that the following modules are installed:\n"
      ]
    },
    {
      "cell_type": "code",
      "execution_count": 4,
      "metadata": {
        "id": "xTVvtyqrfVNq"
      },
      "outputs": [],
      "source": [
        "%%capture\n",
        "!pip install dlt[duckdb]\n",
        "import dlt\n",
        "import duckdb"
      ]
    },
    {
      "cell_type": "markdown",
      "metadata": {},
      "source": [
        "for first running set write dispo to replace to replace fresh data\n",
        "When loading first data we can using primary key or just set using @dlt.resources to merge the second data\n",
        "\n",
        "The difference between these approaches lies primarily in the criteria used to identify existing records. Using the primary key ensures uniqueness based on the primary key constraint of the table, while using a merge key provides flexibility to define custom criteria for identifying existing records, which may not necessarily be unique.\n",
        "\n",
        "In summary, while both options aim to merge new data with existing data in the target table, they differ in the criteria used to identify existing records for updates."
      ]
    },
    {
      "cell_type": "code",
      "execution_count": 5,
      "metadata": {
        "id": "a2-PRBAkGC2K"
      },
      "outputs": [],
      "source": [
        "def people_1():\n",
        "    for i in range(1, 6):\n",
        "        yield {\"ID\": i, \"Name\": f\"Person_{i}\", \"Age\": 25 + i, \"City\": \"City_A\"}\n",
        "\n",
        "\n",
        "people1_pipeline = dlt.pipeline(\n",
        "    pipeline_name=\"people_etl\", dataset_name=\"people\", destination=\"duckdb\"\n",
        ")\n",
        "info = people1_pipeline.run(\n",
        "    people_1(),\n",
        "    table_name=\"people_table\",\n",
        "    write_disposition=\"replace\",\n",
        "    primary_key=[\"ID\"],\n",
        ")"
      ]
    },
    {
      "cell_type": "code",
      "execution_count": 6,
      "metadata": {},
      "outputs": [],
      "source": [
        "# @dlt.resource(write_disposition=\"merge\", merge_key=[\"ID\"])\n",
        "def people_2():\n",
        "    for i in range(3, 9):\n",
        "        yield {\n",
        "            \"ID\": i,\n",
        "            \"Name\": f\"Person_{i}\",\n",
        "            \"Age\": 30 + i,\n",
        "            \"City\": \"City_B\",\n",
        "            \"Occupation\": f\"Job_{i}\",\n",
        "        }\n",
        "\n",
        "\n",
        "people2_pipeline = people1_pipeline.run(\n",
        "    people_2(), table_name=\"people_table\", write_disposition=\"merge\"\n",
        ")"
      ]
    },
    {
      "cell_type": "code",
      "execution_count": 7,
      "metadata": {},
      "outputs": [
        {
          "data": {
            "text/plain": [
              "┌───────┬──────────┬───────┬─────────┬────────────────────┬────────────────┬────────────┐\n",
              "│  id   │   name   │  age  │  city   │    _dlt_load_id    │    _dlt_id     │ occupation │\n",
              "│ int64 │ varchar  │ int64 │ varchar │      varchar       │    varchar     │  varchar   │\n",
              "├───────┼──────────┼───────┼─────────┼────────────────────┼────────────────┼────────────┤\n",
              "│     1 │ Person_1 │    26 │ City_A  │ 1707696649.5891662 │ Zq2eMQIfDicdBg │ NULL       │\n",
              "│     2 │ Person_2 │    27 │ City_A  │ 1707696649.5891662 │ HZDe25uKguNDCQ │ NULL       │\n",
              "│     8 │ Person_8 │    38 │ City_B  │ 1707696659.6374679 │ n/6wiGSZ9Qfb2Q │ Job_8      │\n",
              "│     5 │ Person_5 │    35 │ City_B  │ 1707696659.6374679 │ Z9FIs/os9DUAyQ │ Job_5      │\n",
              "│     4 │ Person_4 │    34 │ City_B  │ 1707696659.6374679 │ mAgCbLtZxoamJw │ Job_4      │\n",
              "│     7 │ Person_7 │    37 │ City_B  │ 1707696659.6374679 │ VfjPM64cdUdr4w │ Job_7      │\n",
              "│     3 │ Person_3 │    33 │ City_B  │ 1707696659.6374679 │ xTIHKLxvvZ1OYw │ Job_3      │\n",
              "│     6 │ Person_6 │    36 │ City_B  │ 1707696659.6374679 │ TyhY0KGrc/PTrA │ Job_6      │\n",
              "└───────┴──────────┴───────┴─────────┴────────────────────┴────────────────┴────────────┘"
            ]
          },
          "metadata": {},
          "output_type": "display_data"
        },
        {
          "name": "stdout",
          "output_type": "stream",
          "text": [
            "sum of the age in second table entry:┌──────────┐\n",
            "│ sum(age) │\n",
            "│  int128  │\n",
            "├──────────┤\n",
            "│      266 │\n",
            "└──────────┘\n",
            "\n"
          ]
        }
      ],
      "source": [
        "conn = duckdb.connect(f\"{people1_pipeline.pipeline_name}.duckdb\")\n",
        "\n",
        "conn.sql(f\"SET search_path= {people2_pipeline.dataset_name}\")\n",
        "display(conn.sql('SELECT * FROM \"people_table\"'))\n",
        "sum_age1 = conn.sql('SELECT sum(age) FROM \"people_table\"')\n",
        "print(f\"sum of the age in second table entry:{sum_age1}\")"
      ]
    },
    {
      "cell_type": "markdown",
      "metadata": {},
      "source": [
        "answer:266"
      ]
    },
    {
      "cell_type": "markdown",
      "metadata": {
        "id": "PoTJu4kbGG0z"
      },
      "source": [
        "Questions? difficulties? We are here to help.\n",
        "\n",
        "- DTC data engineering course channel: https://datatalks-club.slack.com/archives/C01FABYF2RG\n",
        "- dlt's DTC cohort channel: https://dlthub-community.slack.com/archives/C06GAEX2VNX\n"
      ]
    }
  ],
  "metadata": {
    "colab": {
      "provenance": []
    },
    "kernelspec": {
      "display_name": "Python 3",
      "name": "python3"
    },
    "language_info": {
      "codemirror_mode": {
        "name": "ipython",
        "version": 3
      },
      "file_extension": ".py",
      "mimetype": "text/x-python",
      "name": "python",
      "nbconvert_exporter": "python",
      "pygments_lexer": "ipython3",
      "version": "3.11.4"
    }
  },
  "nbformat": 4,
  "nbformat_minor": 0
}
