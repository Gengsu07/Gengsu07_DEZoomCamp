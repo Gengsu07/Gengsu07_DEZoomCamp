{
 "cells": [
  {
   "cell_type": "markdown",
   "metadata": {},
   "source": [
    "### Sending Green trips data\n"
   ]
  },
  {
   "cell_type": "code",
   "execution_count": null,
   "metadata": {},
   "outputs": [],
   "source": [
    "import json\n",
    "import time\n",
    "\n",
    "from kafka import KafkaProducer\n",
    "\n",
    "\n",
    "def json_serializer(data):\n",
    "    return json.dumps(data).encode(\"utf-8\")\n",
    "\n",
    "\n",
    "server = \"localhost:9092\"\n",
    "\n",
    "producer = KafkaProducer(\n",
    "    bootstrap_servers=[server], value_serializer=json_serializer)\n",
    "\n",
    "producer.bootstrap_connected()"
   ]
  },
  {
   "cell_type": "code",
   "execution_count": null,
   "metadata": {},
   "outputs": [],
   "source": [
    "import pandas as pd\n",
    "\n",
    "parse_dates = [\"lpep_pickup_datetime\", \"lpep_dropoff_datetime\"]\n",
    "columns = [\n",
    "    \"lpep_pickup_datetime\",\n",
    "    \"lpep_dropoff_datetime\",\n",
    "    \"PULocationID\",\n",
    "    \"DOLocationID\",\n",
    "    \"passenger_count\",\n",
    "    \"trip_distance\",\n",
    "    \"tip_amount\",\n",
    "]\n",
    "df_green = pd.read_csv(\n",
    "    \"green_tripdata_2019-10.csv.gz\",\n",
    "    compression=\"gzip\",\n",
    "    usecols=columns,\n",
    ")"
   ]
  },
  {
   "cell_type": "code",
   "execution_count": null,
   "metadata": {},
   "outputs": [],
   "source": [
    "parse_dates = [\"lpep_pickup_datetime\", \"lpep_dropoff_datetime\"]\n",
    "columns = [\n",
    "    \"lpep_pickup_datetime\",\n",
    "    \"lpep_dropoff_datetime\",\n",
    "    \"PULocationID\",\n",
    "    \"DOLocationID\",\n",
    "    \"passenger_count\",\n",
    "    \"trip_distance\",\n",
    "    \"tip_amount\",\n",
    "]\n",
    "df_green = pd.read_csv(\n",
    "    \"green_tripdata_2019-10.csv.gz\",\n",
    "    compression=\"gzip\",\n",
    "    usecols=columns,\n",
    ")"
   ]
  },
  {
   "cell_type": "code",
   "execution_count": null,
   "metadata": {},
   "outputs": [],
   "source": [
    "df_green.head()"
   ]
  },
  {
   "cell_type": "code",
   "execution_count": null,
   "metadata": {},
   "outputs": [],
   "source": [
    "topic_name = \"green-trips\"\n",
    "t0 = time.time()\n",
    "for row in df_green.itertuples():\n",
    "    row_dict = {col: getattr(row, col) for col in row._fields}\n",
    "    message = json.dumps(row_dict)\n",
    "    producer.send(topic_name, value=message)\n",
    "    print(f\"Sent: {message}\")\n",
    "t1 = time.time()\n",
    "print(f\"sending message took {(t1 - t0):.2f} seconds\")"
   ]
  }
 ],
 "metadata": {
  "language_info": {
   "name": "python"
  }
 },
 "nbformat": 4,
 "nbformat_minor": 2
}
