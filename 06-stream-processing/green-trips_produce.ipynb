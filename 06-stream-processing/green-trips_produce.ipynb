{
 "cells": [
  {
   "cell_type": "code",
   "execution_count": null,
   "metadata": {},
   "outputs": [],
   "source": [
    "import pandas as pd\n",
    "\n",
    "parse_dates = [\"lpep_pickup_datetime\", \"lpep_dropoff_datetime\"]\n",
    "columns = [\n",
    "    \"lpep_pickup_datetime\",\n",
    "    \"lpep_dropoff_datetime\",\n",
    "    \"PULocationID\",\n",
    "    \"DOLocationID\",\n",
    "    \"passenger_count\",\n",
    "    \"trip_distance\",\n",
    "    \"tip_amount\",\n",
    "]\n",
    "df_green = pd.read_csv(\n",
    "    \"green_tripdata_2019-10.csv.gz\",\n",
    "    compression=\"gzip\",\n",
    "    usecols=columns,\n",
    ")"
   ]
  }
 ],
 "metadata": {
  "language_info": {
   "name": "python"
  }
 },
 "nbformat": 4,
 "nbformat_minor": 2
}
