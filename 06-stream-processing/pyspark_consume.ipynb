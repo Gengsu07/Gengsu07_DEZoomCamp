{
 "cells": [
  {
   "cell_type": "code",
   "execution_count": 32,
   "metadata": {},
   "outputs": [],
   "source": [
    "import pyspark\n",
    "from pyspark.sql import SparkSession, functions as F, types as T\n",
    "from pyspark.sql.functions import from_json, col, udf\n",
    "import json\n",
    "\n",
    "\n",
    "pyspark_version = pyspark.__version__\n",
    "kafka_jar_package = f\"org.apache.spark:spark-sql-kafka-0-10_2.12:{pyspark_version}\"\n",
    "\n",
    "spark = (\n",
    "    SparkSession.builder.master(\"local[*]\")\n",
    "    .appName(\"GreenTripsConsumer\")\n",
    "    .config(\"spark.jars.packages\", kafka_jar_package)\n",
    "    .getOrCreate()\n",
    ")"
   ]
  },
  {
   "cell_type": "code",
   "execution_count": 33,
   "metadata": {},
   "outputs": [],
   "source": [
    "green_stream = (\n",
    "    spark.readStream.format(\"kafka\")\n",
    "    .option(\"kafka.bootstrap.servers\", \"localhost:9092\")\n",
    "    .option(\"subscribe\", \"green-trips\")\n",
    "    .option(\"startingOffsets\", \"earliest\")\n",
    "    .load()\n",
    ")"
   ]
  },
  {
   "cell_type": "markdown",
   "metadata": {},
   "source": [
    "In order to test that we can consume from the stream, let's see what will be the first record there.\n",
    "\n",
    "In Spark streaming, the stream is represented as a sequence of small batches, each batch being a small RDD (or a small dataframe).\n",
    "\n",
    "So we can execute a function over each mini-batch. Let's run take(1) there to see what do we have in the stream:\n"
   ]
  },
  {
   "cell_type": "code",
   "execution_count": 34,
   "metadata": {},
   "outputs": [],
   "source": [
    "# def peek(mini_batch, batch_id):\n",
    "#     first_row = mini_batch.take(1)\n",
    "\n",
    "#     if first_row:\n",
    "#         print(first_row[0])\n",
    "\n",
    "\n",
    "# query = green_stream.writeStream.foreachBatch(peek).start()"
   ]
  },
  {
   "cell_type": "code",
   "execution_count": 35,
   "metadata": {},
   "outputs": [],
   "source": [
    "# green_stream.select(col('value')).writeStream.foreachBatch(peek).start()"
   ]
  },
  {
   "cell_type": "markdown",
   "metadata": {},
   "source": [
    "The data is JSON, but currently it's in binary format. We need to parse it and turn it into a streaming dataframe with proper columns.\n",
    "\n",
    "Similarly to PySpark, we define the schema\n"
   ]
  },
  {
   "cell_type": "code",
   "execution_count": 36,
   "metadata": {},
   "outputs": [],
   "source": [
    "from pyspark.sql import types as T\n",
    "\n",
    "schema = T.StructType(\n",
    "    [\n",
    "        T.StructField(\"lpep_pickup_datetime\", T.StringType(), True),\n",
    "        T.StructField(\"lpep_dropoff_datetime\", T.StringType(), True),\n",
    "        T.StructField(\"PULocationID\", T.IntegerType(), True),\n",
    "        T.StructField(\"DOLocationID\", T.IntegerType(), True),\n",
    "        T.StructField(\"passenger_count\", T.DoubleType(), True),\n",
    "        T.StructField(\"trip_distance\", T.DoubleType(), True),\n",
    "        T.StructField(\"tip_amount\", T.DoubleType(), True),\n",
    "    ]\n",
    ")"
   ]
  },
  {
   "cell_type": "code",
   "execution_count": 37,
   "metadata": {},
   "outputs": [],
   "source": [
    "from pyspark.sql import functions as F\n",
    "\n",
    "green_stream = green_stream.select(\n",
    "    F.from_json(F.col(\"value\").cast(\"STRING\"), schema).alias(\"data\")\n",
    ").select(\"data.*\")\n",
    "\n",
    "# green_stream.writeStream.foreachBatch(peek).start()"
   ]
  },
  {
   "cell_type": "markdown",
   "metadata": {},
   "source": [
    "### Streaming Analytics|\n"
   ]
  },
  {
   "cell_type": "code",
   "execution_count": 38,
   "metadata": {},
   "outputs": [],
   "source": [
    "popular_destination = green_stream.withColumn(\"timestamp\", F.current_timestamp()) \\\n",
    "    .groupBy(F.window(col(\"timestamp\"), \"5 minutes\"),col(\"DOLocationID\")) \\\n",
    "    .agg(F.count(col('DOLocationID')).alias('count')) \\\n",
    "    .orderBy(col('count').desc()) "
   ]
  },
  {
   "cell_type": "code",
   "execution_count": 39,
   "metadata": {},
   "outputs": [
    {
     "name": "stderr",
     "output_type": "stream",
     "text": [
      "24/03/21 16:58:04 WARN ResolveWriteToStream: Temporary checkpoint location created which is deleted normally when the query didn't fail: /tmp/temporary-0782dbe4-09de-4a30-a39e-4734a74de73d. If it's required to delete it under any circumstances, please set spark.sql.streaming.forceDeleteTempCheckpointLocation to true. Important to know deleting temp checkpoint folder is best effort.\n",
      "24/03/21 16:58:04 WARN ResolveWriteToStream: spark.sql.adaptive.enabled is not supported in streaming DataFrames/Datasets and will be disabled.\n",
      "24/03/21 16:58:04 WARN AdminClientConfig: These configurations '[key.deserializer, value.deserializer, enable.auto.commit, max.poll.records, auto.offset.reset]' were supplied but are not used yet.\n",
      "[Stage 10:=====================================================>(197 + 2) / 200]\r"
     ]
    },
    {
     "name": "stdout",
     "output_type": "stream",
     "text": [
      "-------------------------------------------\n",
      "Batch: 0\n",
      "-------------------------------------------\n",
      "+------+------------+-----+\n",
      "|window|DOLocationID|count|\n",
      "+------+------------+-----+\n",
      "+------+------------+-----+\n",
      "\n"
     ]
    },
    {
     "name": "stderr",
     "output_type": "stream",
     "text": [
      "                                                                                \r"
     ]
    },
    {
     "name": "stdout",
     "output_type": "stream",
     "text": [
      "-------------------------------------------\n",
      "Batch: 1\n",
      "-------------------------------------------\n",
      "+------------------------------------------+------------+-----+\n",
      "|window                                    |DOLocationID|count|\n",
      "+------------------------------------------+------------+-----+\n",
      "|{2024-03-21 16:55:00, 2024-03-21 17:00:00}|74          |4630 |\n",
      "|{2024-03-21 16:55:00, 2024-03-21 17:00:00}|42          |4127 |\n",
      "|{2024-03-21 16:55:00, 2024-03-21 17:00:00}|41          |3760 |\n",
      "|{2024-03-21 16:55:00, 2024-03-21 17:00:00}|75          |3341 |\n",
      "|{2024-03-21 16:55:00, 2024-03-21 17:00:00}|129         |3008 |\n",
      "|{2024-03-21 16:55:00, 2024-03-21 17:00:00}|166         |2975 |\n",
      "|{2024-03-21 16:55:00, 2024-03-21 17:00:00}|7           |2941 |\n",
      "|{2024-03-21 16:55:00, 2024-03-21 17:00:00}|236         |2042 |\n",
      "|{2024-03-21 16:55:00, 2024-03-21 17:00:00}|238         |2010 |\n",
      "|{2024-03-21 16:55:00, 2024-03-21 17:00:00}|223         |1963 |\n",
      "|{2024-03-21 16:55:00, 2024-03-21 17:00:00}|82          |1724 |\n",
      "|{2024-03-21 16:55:00, 2024-03-21 17:00:00}|181         |1715 |\n",
      "|{2024-03-21 16:55:00, 2024-03-21 17:00:00}|95          |1666 |\n",
      "|{2024-03-21 16:55:00, 2024-03-21 17:00:00}|244         |1646 |\n",
      "|{2024-03-21 16:55:00, 2024-03-21 17:00:00}|116         |1625 |\n",
      "|{2024-03-21 16:55:00, 2024-03-21 17:00:00}|138         |1542 |\n",
      "|{2024-03-21 16:55:00, 2024-03-21 17:00:00}|97          |1453 |\n",
      "|{2024-03-21 16:55:00, 2024-03-21 17:00:00}|61          |1376 |\n",
      "|{2024-03-21 16:55:00, 2024-03-21 17:00:00}|151         |1329 |\n",
      "|{2024-03-21 16:55:00, 2024-03-21 17:00:00}|49          |1267 |\n",
      "+------------------------------------------+------------+-----+\n",
      "only showing top 20 rows\n",
      "\n"
     ]
    },
    {
     "name": "stderr",
     "output_type": "stream",
     "text": [
      "                                                                                \r"
     ]
    },
    {
     "name": "stdout",
     "output_type": "stream",
     "text": [
      "-------------------------------------------\n",
      "Batch: 2\n",
      "-------------------------------------------\n",
      "+------------------------------------------+------------+-----+\n",
      "|window                                    |DOLocationID|count|\n",
      "+------------------------------------------+------------+-----+\n",
      "|{2024-03-21 16:55:00, 2024-03-21 17:00:00}|74          |13442|\n",
      "|{2024-03-21 16:55:00, 2024-03-21 17:00:00}|42          |11687|\n",
      "|{2024-03-21 16:55:00, 2024-03-21 17:00:00}|41          |10573|\n",
      "|{2024-03-21 16:55:00, 2024-03-21 17:00:00}|75          |9595 |\n",
      "|{2024-03-21 16:55:00, 2024-03-21 17:00:00}|129         |9030 |\n",
      "|{2024-03-21 16:55:00, 2024-03-21 17:00:00}|7           |8751 |\n",
      "|{2024-03-21 16:55:00, 2024-03-21 17:00:00}|166         |8525 |\n",
      "|{2024-03-21 16:55:00, 2024-03-21 17:00:00}|236         |6045 |\n",
      "|{2024-03-21 16:55:00, 2024-03-21 17:00:00}|223         |5873 |\n",
      "|{2024-03-21 16:55:00, 2024-03-21 17:00:00}|238         |5618 |\n",
      "|{2024-03-21 16:55:00, 2024-03-21 17:00:00}|82          |5307 |\n",
      "|{2024-03-21 16:55:00, 2024-03-21 17:00:00}|138         |5107 |\n",
      "|{2024-03-21 16:55:00, 2024-03-21 17:00:00}|181         |5035 |\n",
      "|{2024-03-21 16:55:00, 2024-03-21 17:00:00}|95          |5025 |\n",
      "|{2024-03-21 16:55:00, 2024-03-21 17:00:00}|244         |4941 |\n",
      "|{2024-03-21 16:55:00, 2024-03-21 17:00:00}|116         |4699 |\n",
      "|{2024-03-21 16:55:00, 2024-03-21 17:00:00}|97          |3959 |\n",
      "|{2024-03-21 16:55:00, 2024-03-21 17:00:00}|151         |3910 |\n",
      "|{2024-03-21 16:55:00, 2024-03-21 17:00:00}|260         |3674 |\n",
      "|{2024-03-21 16:55:00, 2024-03-21 17:00:00}|152         |3600 |\n",
      "+------------------------------------------+------------+-----+\n",
      "only showing top 20 rows\n",
      "\n"
     ]
    },
    {
     "name": "stderr",
     "output_type": "stream",
     "text": [
      "                                                                                \r"
     ]
    },
    {
     "name": "stdout",
     "output_type": "stream",
     "text": [
      "-------------------------------------------\n",
      "Batch: 3\n",
      "-------------------------------------------\n",
      "+------------------------------------------+------------+-----+\n",
      "|window                                    |DOLocationID|count|\n",
      "+------------------------------------------+------------+-----+\n",
      "|{2024-03-21 16:55:00, 2024-03-21 17:00:00}|74          |13442|\n",
      "|{2024-03-21 16:55:00, 2024-03-21 17:00:00}|42          |11687|\n",
      "|{2024-03-21 16:55:00, 2024-03-21 17:00:00}|41          |10573|\n",
      "|{2024-03-21 16:55:00, 2024-03-21 17:00:00}|75          |9595 |\n",
      "|{2024-03-21 16:55:00, 2024-03-21 17:00:00}|129         |9030 |\n",
      "|{2024-03-21 16:55:00, 2024-03-21 17:00:00}|7           |8751 |\n",
      "|{2024-03-21 16:55:00, 2024-03-21 17:00:00}|166         |8525 |\n",
      "|{2024-03-21 16:55:00, 2024-03-21 17:00:00}|236         |6045 |\n",
      "|{2024-03-21 16:55:00, 2024-03-21 17:00:00}|223         |5873 |\n",
      "|{2024-03-21 16:55:00, 2024-03-21 17:00:00}|238         |5618 |\n",
      "|{2024-03-21 16:55:00, 2024-03-21 17:00:00}|82          |5307 |\n",
      "|{2024-03-21 16:55:00, 2024-03-21 17:00:00}|138         |5107 |\n",
      "|{2024-03-21 16:55:00, 2024-03-21 17:00:00}|181         |5035 |\n",
      "|{2024-03-21 16:55:00, 2024-03-21 17:00:00}|95          |5025 |\n",
      "|{2024-03-21 16:55:00, 2024-03-21 17:00:00}|244         |4941 |\n",
      "|{2024-03-21 16:55:00, 2024-03-21 17:00:00}|116         |4699 |\n",
      "|{2024-03-21 17:00:00, 2024-03-21 17:05:00}|74          |4299 |\n",
      "|{2024-03-21 17:00:00, 2024-03-21 17:05:00}|42          |4255 |\n",
      "|{2024-03-21 16:55:00, 2024-03-21 17:00:00}|97          |3959 |\n",
      "|{2024-03-21 16:55:00, 2024-03-21 17:00:00}|151         |3910 |\n",
      "+------------------------------------------+------------+-----+\n",
      "only showing top 20 rows\n",
      "\n"
     ]
    },
    {
     "name": "stderr",
     "output_type": "stream",
     "text": [
      "ERROR:root:KeyboardInterrupt while sending command.\n",
      "Traceback (most recent call last):\n",
      "  File \"/home/codespace/.python/current/lib/python3.10/site-packages/py4j/java_gateway.py\", line 1038, in send_command\n",
      "    response = connection.send_command(command)\n",
      "  File \"/home/codespace/.python/current/lib/python3.10/site-packages/py4j/clientserver.py\", line 511, in send_command\n",
      "    answer = smart_decode(self.stream.readline()[:-1])\n",
      "  File \"/home/codespace/.python/current/lib/python3.10/socket.py\", line 705, in readinto\n",
      "    return self._sock.recv_into(b)\n",
      "KeyboardInterrupt\n"
     ]
    },
    {
     "ename": "KeyboardInterrupt",
     "evalue": "",
     "output_type": "error",
     "traceback": [
      "\u001b[0;31m---------------------------------------------------------------------------\u001b[0m",
      "\u001b[0;31mKeyboardInterrupt\u001b[0m                         Traceback (most recent call last)",
      "Cell \u001b[0;32mIn[39], line 8\u001b[0m\n\u001b[1;32m      1\u001b[0m query \u001b[38;5;241m=\u001b[39m popular_destination \\\n\u001b[1;32m      2\u001b[0m     \u001b[38;5;241m.\u001b[39mwriteStream \\\n\u001b[1;32m      3\u001b[0m     \u001b[38;5;241m.\u001b[39moutputMode(\u001b[38;5;124m\"\u001b[39m\u001b[38;5;124mcomplete\u001b[39m\u001b[38;5;124m\"\u001b[39m) \\\n\u001b[1;32m      4\u001b[0m     \u001b[38;5;241m.\u001b[39mformat(\u001b[38;5;124m\"\u001b[39m\u001b[38;5;124mconsole\u001b[39m\u001b[38;5;124m\"\u001b[39m) \\\n\u001b[1;32m      5\u001b[0m     \u001b[38;5;241m.\u001b[39moption(\u001b[38;5;124m\"\u001b[39m\u001b[38;5;124mtruncate\u001b[39m\u001b[38;5;124m\"\u001b[39m, \u001b[38;5;124m\"\u001b[39m\u001b[38;5;124mfalse\u001b[39m\u001b[38;5;124m\"\u001b[39m) \\\n\u001b[1;32m      6\u001b[0m     \u001b[38;5;241m.\u001b[39mstart()\n\u001b[0;32m----> 8\u001b[0m \u001b[43mquery\u001b[49m\u001b[38;5;241;43m.\u001b[39;49m\u001b[43mawaitTermination\u001b[49m\u001b[43m(\u001b[49m\u001b[43m)\u001b[49m\n",
      "File \u001b[0;32m~/.python/current/lib/python3.10/site-packages/pyspark/sql/streaming/query.py:221\u001b[0m, in \u001b[0;36mStreamingQuery.awaitTermination\u001b[0;34m(self, timeout)\u001b[0m\n\u001b[1;32m    219\u001b[0m     \u001b[38;5;28;01mreturn\u001b[39;00m \u001b[38;5;28mself\u001b[39m\u001b[38;5;241m.\u001b[39m_jsq\u001b[38;5;241m.\u001b[39mawaitTermination(\u001b[38;5;28mint\u001b[39m(timeout \u001b[38;5;241m*\u001b[39m \u001b[38;5;241m1000\u001b[39m))\n\u001b[1;32m    220\u001b[0m \u001b[38;5;28;01melse\u001b[39;00m:\n\u001b[0;32m--> 221\u001b[0m     \u001b[38;5;28;01mreturn\u001b[39;00m \u001b[38;5;28;43mself\u001b[39;49m\u001b[38;5;241;43m.\u001b[39;49m\u001b[43m_jsq\u001b[49m\u001b[38;5;241;43m.\u001b[39;49m\u001b[43mawaitTermination\u001b[49m\u001b[43m(\u001b[49m\u001b[43m)\u001b[49m\n",
      "File \u001b[0;32m~/.python/current/lib/python3.10/site-packages/py4j/java_gateway.py:1321\u001b[0m, in \u001b[0;36mJavaMember.__call__\u001b[0;34m(self, *args)\u001b[0m\n\u001b[1;32m   1314\u001b[0m args_command, temp_args \u001b[38;5;241m=\u001b[39m \u001b[38;5;28mself\u001b[39m\u001b[38;5;241m.\u001b[39m_build_args(\u001b[38;5;241m*\u001b[39margs)\n\u001b[1;32m   1316\u001b[0m command \u001b[38;5;241m=\u001b[39m proto\u001b[38;5;241m.\u001b[39mCALL_COMMAND_NAME \u001b[38;5;241m+\u001b[39m\\\n\u001b[1;32m   1317\u001b[0m     \u001b[38;5;28mself\u001b[39m\u001b[38;5;241m.\u001b[39mcommand_header \u001b[38;5;241m+\u001b[39m\\\n\u001b[1;32m   1318\u001b[0m     args_command \u001b[38;5;241m+\u001b[39m\\\n\u001b[1;32m   1319\u001b[0m     proto\u001b[38;5;241m.\u001b[39mEND_COMMAND_PART\n\u001b[0;32m-> 1321\u001b[0m answer \u001b[38;5;241m=\u001b[39m \u001b[38;5;28;43mself\u001b[39;49m\u001b[38;5;241;43m.\u001b[39;49m\u001b[43mgateway_client\u001b[49m\u001b[38;5;241;43m.\u001b[39;49m\u001b[43msend_command\u001b[49m\u001b[43m(\u001b[49m\u001b[43mcommand\u001b[49m\u001b[43m)\u001b[49m\n\u001b[1;32m   1322\u001b[0m return_value \u001b[38;5;241m=\u001b[39m get_return_value(\n\u001b[1;32m   1323\u001b[0m     answer, \u001b[38;5;28mself\u001b[39m\u001b[38;5;241m.\u001b[39mgateway_client, \u001b[38;5;28mself\u001b[39m\u001b[38;5;241m.\u001b[39mtarget_id, \u001b[38;5;28mself\u001b[39m\u001b[38;5;241m.\u001b[39mname)\n\u001b[1;32m   1325\u001b[0m \u001b[38;5;28;01mfor\u001b[39;00m temp_arg \u001b[38;5;129;01min\u001b[39;00m temp_args:\n",
      "File \u001b[0;32m~/.python/current/lib/python3.10/site-packages/py4j/java_gateway.py:1038\u001b[0m, in \u001b[0;36mGatewayClient.send_command\u001b[0;34m(self, command, retry, binary)\u001b[0m\n\u001b[1;32m   1036\u001b[0m connection \u001b[38;5;241m=\u001b[39m \u001b[38;5;28mself\u001b[39m\u001b[38;5;241m.\u001b[39m_get_connection()\n\u001b[1;32m   1037\u001b[0m \u001b[38;5;28;01mtry\u001b[39;00m:\n\u001b[0;32m-> 1038\u001b[0m     response \u001b[38;5;241m=\u001b[39m \u001b[43mconnection\u001b[49m\u001b[38;5;241;43m.\u001b[39;49m\u001b[43msend_command\u001b[49m\u001b[43m(\u001b[49m\u001b[43mcommand\u001b[49m\u001b[43m)\u001b[49m\n\u001b[1;32m   1039\u001b[0m     \u001b[38;5;28;01mif\u001b[39;00m binary:\n\u001b[1;32m   1040\u001b[0m         \u001b[38;5;28;01mreturn\u001b[39;00m response, \u001b[38;5;28mself\u001b[39m\u001b[38;5;241m.\u001b[39m_create_connection_guard(connection)\n",
      "File \u001b[0;32m~/.python/current/lib/python3.10/site-packages/py4j/clientserver.py:511\u001b[0m, in \u001b[0;36mClientServerConnection.send_command\u001b[0;34m(self, command)\u001b[0m\n\u001b[1;32m    509\u001b[0m \u001b[38;5;28;01mtry\u001b[39;00m:\n\u001b[1;32m    510\u001b[0m     \u001b[38;5;28;01mwhile\u001b[39;00m \u001b[38;5;28;01mTrue\u001b[39;00m:\n\u001b[0;32m--> 511\u001b[0m         answer \u001b[38;5;241m=\u001b[39m smart_decode(\u001b[38;5;28;43mself\u001b[39;49m\u001b[38;5;241;43m.\u001b[39;49m\u001b[43mstream\u001b[49m\u001b[38;5;241;43m.\u001b[39;49m\u001b[43mreadline\u001b[49m\u001b[43m(\u001b[49m\u001b[43m)\u001b[49m[:\u001b[38;5;241m-\u001b[39m\u001b[38;5;241m1\u001b[39m])\n\u001b[1;32m    512\u001b[0m         logger\u001b[38;5;241m.\u001b[39mdebug(\u001b[38;5;124m\"\u001b[39m\u001b[38;5;124mAnswer received: \u001b[39m\u001b[38;5;132;01m{0}\u001b[39;00m\u001b[38;5;124m\"\u001b[39m\u001b[38;5;241m.\u001b[39mformat(answer))\n\u001b[1;32m    513\u001b[0m         \u001b[38;5;66;03m# Happens when a the other end is dead. There might be an empty\u001b[39;00m\n\u001b[1;32m    514\u001b[0m         \u001b[38;5;66;03m# answer before the socket raises an error.\u001b[39;00m\n",
      "File \u001b[0;32m~/.python/current/lib/python3.10/socket.py:705\u001b[0m, in \u001b[0;36mSocketIO.readinto\u001b[0;34m(self, b)\u001b[0m\n\u001b[1;32m    703\u001b[0m \u001b[38;5;28;01mwhile\u001b[39;00m \u001b[38;5;28;01mTrue\u001b[39;00m:\n\u001b[1;32m    704\u001b[0m     \u001b[38;5;28;01mtry\u001b[39;00m:\n\u001b[0;32m--> 705\u001b[0m         \u001b[38;5;28;01mreturn\u001b[39;00m \u001b[38;5;28;43mself\u001b[39;49m\u001b[38;5;241;43m.\u001b[39;49m\u001b[43m_sock\u001b[49m\u001b[38;5;241;43m.\u001b[39;49m\u001b[43mrecv_into\u001b[49m\u001b[43m(\u001b[49m\u001b[43mb\u001b[49m\u001b[43m)\u001b[49m\n\u001b[1;32m    706\u001b[0m     \u001b[38;5;28;01mexcept\u001b[39;00m timeout:\n\u001b[1;32m    707\u001b[0m         \u001b[38;5;28mself\u001b[39m\u001b[38;5;241m.\u001b[39m_timeout_occurred \u001b[38;5;241m=\u001b[39m \u001b[38;5;28;01mTrue\u001b[39;00m\n",
      "\u001b[0;31mKeyboardInterrupt\u001b[0m: "
     ]
    }
   ],
   "source": [
    "query = popular_destination \\\n",
    "    .writeStream \\\n",
    "    .outputMode(\"complete\") \\\n",
    "    .format(\"console\") \\\n",
    "    .option(\"truncate\", \"false\") \\\n",
    "    .start()\n",
    "\n",
    "query.awaitTermination()"
   ]
  },
  {
   "cell_type": "code",
   "execution_count": 40,
   "metadata": {},
   "outputs": [],
   "source": [
    "query.stop()"
   ]
  },
  {
   "cell_type": "code",
   "execution_count": null,
   "metadata": {},
   "outputs": [],
   "source": []
  }
 ],
 "metadata": {
  "kernelspec": {
   "display_name": "Python 3",
   "language": "python",
   "name": "python3"
  },
  "language_info": {
   "codemirror_mode": {
    "name": "ipython",
    "version": 3
   },
   "file_extension": ".py",
   "mimetype": "text/x-python",
   "name": "python",
   "nbconvert_exporter": "python",
   "pygments_lexer": "ipython3",
   "version": "3.10.13"
  }
 },
 "nbformat": 4,
 "nbformat_minor": 2
}
